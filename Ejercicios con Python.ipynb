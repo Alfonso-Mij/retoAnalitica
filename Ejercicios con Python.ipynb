{
 "cells": [
  {
   "cell_type": "markdown",
   "id": "f06605c8",
   "metadata": {},
   "source": [
    "# Ejercicios con python"
   ]
  },
  {
   "cell_type": "code",
   "execution_count": 3,
   "id": "cc9144da",
   "metadata": {},
   "outputs": [],
   "source": [
    "# Impoprtación de las librerías\n",
    "import numpy as np\n",
    "import csv"
   ]
  },
  {
   "cell_type": "markdown",
   "id": "bc9022a2",
   "metadata": {},
   "source": [
    "1. Escribir una función de Python que encuentre los números primos en los primeros N números naturales. \n",
    "    - N es el argumento de la función. \n",
    "    - Llamar la función desde el código principal."
   ]
  },
  {
   "cell_type": "code",
   "execution_count": 4,
   "id": "88bc4f75",
   "metadata": {},
   "outputs": [],
   "source": [
    "def num_prim(N):\n",
    "    for i in range(N):\n",
    "        count = 0\n",
    "        for j in range(1,i):\n",
    "            if (i%j == 0):\n",
    "                count = count + 1\n",
    "        if (count == 1):\n",
    "            print(i)"
   ]
  },
  {
   "cell_type": "markdown",
   "id": "e931d67a",
   "metadata": {},
   "source": [
    "2. Escribir una función de Pyton que encuentre el producto cruz en vectores de 3 componentes. \n",
    "    - La función recibe dos listas (vectores)\n",
    "    - La función regresa un tercer vector (lista) con el resultado\n",
    "    - Llamar a la función desde el código principal\n"
   ]
  },
  {
   "cell_type": "code",
   "execution_count": 5,
   "id": "97d94e73",
   "metadata": {},
   "outputs": [],
   "source": [
    "def producto_cruz(N, M):\n",
    "    product = np.cross(N,M)\n",
    "    return product"
   ]
  },
  {
   "cell_type": "markdown",
   "id": "a2e73364",
   "metadata": {},
   "source": [
    "3. Re-escribir el problema 2, pero ahora los vectores son leídos desde un archivo de texto."
   ]
  },
  {
   "cell_type": "code",
   "execution_count": null,
   "id": "f2d9eed1",
   "metadata": {},
   "outputs": [],
   "source": [
    "def lectura_archivos():\n",
    "    filas = []\n",
    "\n",
    "    with open (\"vectors.csv\", 'r') as file:\n",
    "        csvr = csv.reader(file)\n",
    "        for row in csvr:\n",
    "            filas.append(row)\n",
    "\n",
    "    x = [float(filas[0][0]),float(filas[0][1]), float(filas[0][2])]\n",
    "    y = [float(filas[1][0]),float(filas[1][1]), float(filas[1][2])]\n",
    "\n",
    "    product = producto_cruz(x,y)\n",
    "\n",
    "    print(PC)"
   ]
  },
  {
   "cell_type": "markdown",
   "id": "6e2d2863",
   "metadata": {},
   "source": [
    "## Main"
   ]
  },
  {
   "cell_type": "code",
   "execution_count": 6,
   "id": "652be39f",
   "metadata": {},
   "outputs": [
    {
     "name": "stdout",
     "output_type": "stream",
     "text": [
      "2\n",
      "3\n",
      "5\n",
      "7\n",
      "11\n",
      "13\n"
     ]
    }
   ],
   "source": [
    "num_prim(17)"
   ]
  },
  {
   "cell_type": "code",
   "execution_count": 7,
   "id": "b4a0a789",
   "metadata": {},
   "outputs": [
    {
     "data": {
      "text/plain": [
       "array([-3045,   630,  1305])"
      ]
     },
     "execution_count": 7,
     "metadata": {},
     "output_type": "execute_result"
    }
   ],
   "source": [
    "producto_cruz([30,29,56], [45,87,63])"
   ]
  },
  {
   "cell_type": "code",
   "execution_count": null,
   "id": "6804d4f8",
   "metadata": {},
   "outputs": [],
   "source": []
  }
 ],
 "metadata": {
  "kernelspec": {
   "display_name": "Python 3 (ipykernel)",
   "language": "python",
   "name": "python3"
  },
  "language_info": {
   "codemirror_mode": {
    "name": "ipython",
    "version": 3
   },
   "file_extension": ".py",
   "mimetype": "text/x-python",
   "name": "python",
   "nbconvert_exporter": "python",
   "pygments_lexer": "ipython3",
   "version": "3.9.7"
  }
 },
 "nbformat": 4,
 "nbformat_minor": 5
}
