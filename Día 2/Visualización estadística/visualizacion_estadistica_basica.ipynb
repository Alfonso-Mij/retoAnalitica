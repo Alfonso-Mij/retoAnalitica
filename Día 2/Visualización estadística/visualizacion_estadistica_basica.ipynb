import pandas as pd
import seaborn as sb
import matplotlib.pyplot as plt

def readData():
    data = pd.read_csv("data1.txt", sep = "\t", header = 0)
    return data

data = readData()

# %% Histograma
plt.hist(data)
plt.show()

# %% Boxplot
plt.boxplot(data)
plt.show()

# %% Scatter
y=data.iloc[: ,1]
x=range(len(y))
plt.scatter(x,y)
plt.show()

# %% Correlation
plt.corr(x,y)
plt.show()

# %% Heatmap
ax = sb.heatmap(data);
